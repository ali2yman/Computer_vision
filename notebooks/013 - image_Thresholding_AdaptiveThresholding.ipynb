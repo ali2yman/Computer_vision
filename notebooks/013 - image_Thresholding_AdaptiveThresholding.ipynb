{
 "cells": [
  {
   "cell_type": "code",
   "execution_count": 1,
   "metadata": {},
   "outputs": [],
   "source": [
    "import cv2\n",
    "import numpy as np \n",
    "import os \n",
    "os.chdir(r\"C:\\Users\\aliay\\OneDrive\\Desktop\\py_test\\computer vision\\dataset\")"
   ]
  },
  {
   "cell_type": "markdown",
   "metadata": {},
   "source": [
    "<B>Global thershold</B>\n",
    "\n",
    "A global threshold is a fixed threshold value that is applied uniformly to all pixels in an image to separate the image into two regions: foreground and background. The idea is to classify each pixel as part of the object of interest (foreground) or the surrounding area (background) based on its intensity value.\n",
    "\n",
    "Here's a simple explanation of how global thresholding works:\n",
    "\n",
    "Threshold Selection: A single threshold value is chosen to divide the pixel intensity values into two categories. Pixels with intensity values below the threshold are considered part of the background, while pixels with intensity values above the threshold are considered part of the foreground.\n",
    "\n",
    "Binary Image Creation: After determining the threshold, a binary image is generated. In the binary image, pixels assigned to the foreground are typically represented by white, and those assigned to the background are represented by black. The result is a binary image that highlights the object of interest based on the chosen threshold.\n",
    "\n",
    "The effectiveness of global thresholding depends on the characteristics of the image. If the image has uniform lighting conditions, a distinct contrast between the object and the background, and minimal noise, global thresholding can be a straightforward and effective segmentation technique.\n",
    "\n",
    "However, as mentioned earlier, global thresholding may not perform well in the presence of varying illumination, uneven backgrounds, noise, or when objects have different sizes and shapes. In such cases, more sophisticated thresholding methods, such as adaptive thresholding or histogram-based methods like Otsu's method, may be employed to account for local variations and optimize the threshold selection for each region of the image."
   ]
  },
  {
   "cell_type": "code",
   "execution_count": 2,
   "metadata": {},
   "outputs": [],
   "source": [
    "img = cv2.imread(\"gradients.jpg\")\n",
    "# (image,threshold,max_value,)\n",
    "_, th = cv2.threshold(img,55,255,cv2.THRESH_BINARY)   # lower than 55 >>> zero otherwise >> 255\n",
    "_, th2 = cv2.threshold(img,200,255,cv2.THRESH_BINARY_INV)   #lower 200 >> white otherwsie >> 0\n",
    "_, th3 = cv2.threshold(img,150,255,cv2.THRESH_TRUNC)     #lower 150 as it is  ,, otherwise >> 150\n",
    "_, th4 = cv2.threshold(img,127,255,cv2.THRESH_TOZERO)    #lowre 127 >>> zero otherwise >> as it is \n",
    "_, th5 = cv2.threshold(img,127,255,cv2.THRESH_TOZERO_INV)   #lowre 127 as it is  otherwise >> zero\n",
    "\n",
    "\n",
    "cv2.imshow(\"image\",img)\n",
    "cv2.imshow(\"th1\",th)\n",
    "# cv2.imshow(\"th2\",th2)\n",
    "# cv2.imshow(\"th3\",th3)\n",
    "# cv2.imshow(\"th4\",th4)\n",
    "# cv2.imshow(\"th5\",th5)\n",
    "\n",
    "cv2.waitKey(0)\n",
    "cv2.destroyAllWindows()"
   ]
  },
  {
   "cell_type": "markdown",
   "metadata": {},
   "source": [
    "<B>In situations with varying illumination and noise in images, using adaptive thresholding methods can be more effective than a fixed global threshold. Adaptive thresholding adjusts the threshold value locally based on the characteristics of small neighborhoods within the image. This helps in handling variations in illumination and mitigating the impact of noise. Here are a few adaptive thresholding methods you can consider:</B>\n",
    "\n",
    "1 - Mean Adaptive Thresholding: \n",
    "Calculate the local mean in a neighborhood around each pixel.\n",
    "Set the threshold for each pixel based on its local mean.\n",
    "This method works well when there is a relatively uniform background.\n",
    "\n",
    "2 - Gaussian Adaptive Thresholding:\n",
    "Similar to mean adaptive thresholding, but instead of using the mean, calculate the local Gaussian-weighted mean in the neighborhood.\n",
    "It can provide better results in the presence of noise.\n",
    "\n",
    "3 - Median Adaptive Thresholding:\n",
    "Calculate the local median in a neighborhood around each pixel.\n",
    "Set the threshold for each pixel based on its local median.\n",
    "This method is less sensitive to outliers and works well in the presence of salt-and-pepper noise.\n",
    "\n",
    "4 - Otsu's Method:\n",
    "Otsu's method is a global thresholding technique, but it is histogram-based and automatically determines an optimal threshold that minimizes the intra-class variance.\n",
    "It can be applied globally or locally, making it suitable for a variety of scenarios.\n",
    "\n",
    "5 - Morphological Methods:\n",
    "Combine adaptive thresholding with morphological operations (such as erosion and dilation) to further refine the segmentation, especially in the presence of noise.\n",
    "\n",
    "When choosing a method, consider the specific characteristics of your images, such as the degree of illumination variation and the type of noise present. It may also be beneficial to experiment with different algorithms and parameters to find the approach that works best for your particular application."
   ]
  },
  {
   "cell_type": "code",
   "execution_count": 2,
   "metadata": {},
   "outputs": [],
   "source": [
    "img = cv2.imread(\"sudoko.jpeg\",0)\n",
    "\n",
    "_, th = cv2.threshold(img,127,255,cv2.THRESH_BINARY)   # lower than 127 >>> zero otherwise >> 255\n",
    "th2 = cv2.adaptiveThreshold(img, 255, cv2.ADAPTIVE_THRESH_MEAN_C, cv2.THRESH_BINARY, 71, 2)\n",
    "th3 = cv2.adaptiveThreshold(img, 255, cv2.ADAPTIVE_THRESH_GAUSSIAN_C, cv2.THRESH_BINARY, 71, 2)\n",
    "\n",
    "\n",
    "cv2.imshow(\"image\",img)\n",
    "cv2.imshow(\"th1\",th)\n",
    "cv2.imshow(\"ADAPTIVE_THRESH_MEAN_C\",th2)\n",
    "cv2.imshow(\"ADAPTIVE_THRESH_GAUSSIAN_C\",th3)\n",
    "\n",
    "cv2.waitKey(0)\n",
    "cv2.destroyAllWindows()"
   ]
  },
  {
   "cell_type": "markdown",
   "metadata": {},
   "source": [
    "<B>How it works</B>\n",
    "\n",
    "1 - cv2.ADAPTIVE_THRESH_MEAN_C: This method computes the mean of the pixel values in a local neighborhood (specified by the block size = 71 ) >> must be odd num and subtracts a constant (specified by C) from it. It is generally suitable for images with uniform lighting conditions.\n",
    "\n",
    "\n",
    "2 - cv2.ADAPTIVE_THRESH_GAUSSIAN_C: This method calculates the weighted sum of the pixel values in a local neighborhood using a Gaussian window. It is more adaptive to varying illumination and is often preferred when there is uneven lighting."
   ]
  },
  {
   "cell_type": "code",
   "execution_count": null,
   "metadata": {},
   "outputs": [],
   "source": []
  }
 ],
 "metadata": {
  "kernelspec": {
   "display_name": "py_test",
   "language": "python",
   "name": "python3"
  },
  "language_info": {
   "codemirror_mode": {
    "name": "ipython",
    "version": 3
   },
   "file_extension": ".py",
   "mimetype": "text/x-python",
   "name": "python",
   "nbconvert_exporter": "python",
   "pygments_lexer": "ipython3",
   "version": "3.9.13"
  }
 },
 "nbformat": 4,
 "nbformat_minor": 2
}
