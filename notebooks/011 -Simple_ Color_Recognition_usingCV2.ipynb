{
 "cells": [
  {
   "cell_type": "code",
   "execution_count": 2,
   "metadata": {},
   "outputs": [],
   "source": [
    "import cv2"
   ]
  },
  {
   "cell_type": "code",
   "execution_count": null,
   "metadata": {},
   "outputs": [],
   "source": [
    "cap = cv2.VideoCapture(0)\n",
    "cap.set(cv2.CAP_PROP_FRAME_WIDTH,1200)\n",
    "cap.set(cv2.CAP_PROP_FRAME_HEIGHT,720)\n",
    "\n",
    "# Define the codec and create a VideoWriter object\n",
    "# fourcc = cv2.VideoWriter_fourcc(*'XVID')\n",
    "# out = cv2.VideoWriter('output.avi', fourcc, 20.0, (1200, 720))\n",
    "\n",
    "while True:\n",
    "    _,frame = cap.read()\n",
    "    hsv_frame = cv2.cvtColor(frame,cv2.COLOR_BGR2HSV)\n",
    "    # ,_  >>> number of chanels \n",
    "    height,width,_ = frame.shape \n",
    "\n",
    "    cx = int(width/2)\n",
    "    cy = int(height/2)\n",
    "\n",
    "    #Pick pixel value \n",
    "    pixel_center = hsv_frame[cy,cx]\n",
    "    hue_value = pixel_center[0]\n",
    "\n",
    "    color = \"undefined\"\n",
    "    if hue_value < 5:\n",
    "        color = \"Red\" \n",
    "    elif hue_value < 22:\n",
    "        color = \"Orange\"  \n",
    "    elif hue_value < 33:\n",
    "        color = \"Yellow\" \n",
    "    elif hue_value < 78:\n",
    "        color = \"Green\" \n",
    "    elif hue_value < 131:\n",
    "        color = \"Blue\"   \n",
    "    elif hue_value < 170:\n",
    "        color = \"Violet\"   \n",
    "    else:\n",
    "        color = color   \n",
    "\n",
    "    # makeing a rectangele to write the color identified by the circle in the center of the frame \n",
    "    pixel_center_bgr = frame[cy,cx]                \n",
    "    b , g , r = int(pixel_center_bgr[0]) , int(pixel_center_bgr[1]) , int(pixel_center_bgr[2])\n",
    "    cv2.rectangle(frame , (cx-220,10) , (cx+200,120) , (255,255,255) , -1)\n",
    "    # 5 >> font face\n",
    "    cv2.putText(frame , color , (cx-200,100) , 5 , 3 , (b,g,r) , 5)\n",
    "    cv2.circle(frame , (cx,cy) , 5 , (25,25,25) , 3)\n",
    "    # Write the frame to the video file\n",
    "    # out.write(frame)\n",
    "    cv2.imshow(\"frame\" , frame)\n",
    "    key = cv2.waitKey(1)\n",
    "    if key == 27:\n",
    "        break\n",
    "\n",
    "cap.release()\n",
    "cv2.destroyAllWindows()    \n"
   ]
  },
  {
   "cell_type": "code",
   "execution_count": null,
   "metadata": {},
   "outputs": [],
   "source": []
  }
 ],
 "metadata": {
  "kernelspec": {
   "display_name": "py_test",
   "language": "python",
   "name": "python3"
  },
  "language_info": {
   "codemirror_mode": {
    "name": "ipython",
    "version": 3
   },
   "file_extension": ".py",
   "mimetype": "text/x-python",
   "name": "python",
   "nbconvert_exporter": "python",
   "pygments_lexer": "ipython3",
   "version": "3.9.13"
  }
 },
 "nbformat": 4,
 "nbformat_minor": 2
}
