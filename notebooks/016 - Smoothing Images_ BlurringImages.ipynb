{
 "cells": [
  {
   "cell_type": "code",
   "execution_count": 4,
   "metadata": {},
   "outputs": [],
   "source": [
    "import cv2\n",
    "import numpy as np \n",
    "import matplotlib.pyplot as plt \n",
    "import os \n",
    "os.chdir(r\"C:\\Users\\aliay\\OneDrive\\Desktop\\py_test\\computer vision\\dataset\\016 - Smoothing Images_ Blurring Images\")"
   ]
  },
  {
   "cell_type": "markdown",
   "metadata": {},
   "source": [
    "# Go to these links for more deatials and to know how each one is working \n",
    "\n",
    "1 - https://docs.opencv.org/4.x/d4/d13/tutorial_py_filtering.html\n",
    "\n",
    "2 - https://docs.opencv.org/3.4/dc/dd3/tutorial_gausian_median_blur_bilateral_filter.html"
   ]
  },
  {
   "cell_type": "code",
   "execution_count": 5,
   "metadata": {},
   "outputs": [],
   "source": [
    "img =  cv2.imread(\"early_1800.jpg\")\n",
    "img2 =  cv2.imread(\"Halftone_Gaussian_Blur.jpg\")\n",
    "img3 =  cv2.imread(\"balloons_noisy.png\")\n",
    "img4 =  cv2.imread(\"lena.png\")\n",
    "\n",
    "\n",
    "averaging = cv2.blur(img3,(11,11))\n",
    "# 0: This is the standard deviation (σ) for the Gaussian kernel. \n",
    "# A value of 0 indicates that OpenCV will automatically calculate the standard deviation based on the kernel size.\n",
    "# f gussian bydy values akbr around the center \n",
    "gblur = cv2.GaussianBlur(img3,(5,5),0)\n",
    "# This is highly effective against salt-and-pepper noise in an image.\n",
    "median = cv2.medianBlur(img3,5)\n",
    "# is highly effective in noise removal while keeping edges sharp. But the operation is slower compared to other filters. \n",
    "# consider whether a pixel is an edge pixel or not. So it not blurs the edges \n",
    "# Diameter: Controls the size of the neighborhood considered for each pixel, affecting the balance between smoothing and preserving detail.\n",
    "# Color Sigma: Determines the range of color differences considered, influencing the degree of color smoothing.\n",
    "# Space Sigma: Controls the spatial weighting of distant pixels, affecting the smoothness of transitions and edges in the image.\n",
    "bilateralFilter = cv2.bilateralFilter(img3,9,75,75)\n",
    "\n",
    "\n",
    "cv2.imshow('img',img3)\n",
    "cv2.imshow('averaging',averaging)\n",
    "cv2.imshow('gblur',gblur)\n",
    "cv2.imshow('median',median)\n",
    "cv2.imshow('bilateralFilter',bilateralFilter)\n",
    "\n",
    "\n",
    "\n",
    "cv2.waitKey(0)\n",
    "cv2.destroyAllWindows()"
   ]
  },
  {
   "cell_type": "code",
   "execution_count": null,
   "metadata": {},
   "outputs": [],
   "source": []
  }
 ],
 "metadata": {
  "kernelspec": {
   "display_name": "py_test",
   "language": "python",
   "name": "python3"
  },
  "language_info": {
   "codemirror_mode": {
    "name": "ipython",
    "version": 3
   },
   "file_extension": ".py",
   "mimetype": "text/x-python",
   "name": "python",
   "nbconvert_exporter": "python",
   "pygments_lexer": "ipython3",
   "version": "3.9.13"
  }
 },
 "nbformat": 4,
 "nbformat_minor": 2
}
