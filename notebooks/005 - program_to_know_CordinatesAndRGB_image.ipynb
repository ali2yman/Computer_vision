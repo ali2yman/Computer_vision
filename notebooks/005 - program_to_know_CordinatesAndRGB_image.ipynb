{
 "cells": [
  {
   "cell_type": "code",
   "execution_count": 1,
   "metadata": {},
   "outputs": [],
   "source": [
    "import numpy as np \n",
    "import cv2"
   ]
  },
  {
   "cell_type": "code",
   "execution_count": 2,
   "metadata": {},
   "outputs": [
    {
     "name": "stdout",
     "output_type": "stream",
     "text": [
      "['EVENT_FLAG_ALTKEY', 'EVENT_FLAG_CTRLKEY', 'EVENT_FLAG_LBUTTON', 'EVENT_FLAG_MBUTTON', 'EVENT_FLAG_RBUTTON', 'EVENT_FLAG_SHIFTKEY', 'EVENT_LBUTTONDBLCLK', 'EVENT_LBUTTONDOWN', 'EVENT_LBUTTONUP', 'EVENT_MBUTTONDBLCLK', 'EVENT_MBUTTONDOWN', 'EVENT_MBUTTONUP', 'EVENT_MOUSEHWHEEL', 'EVENT_MOUSEMOVE', 'EVENT_MOUSEWHEEL', 'EVENT_RBUTTONDBLCLK', 'EVENT_RBUTTONDOWN', 'EVENT_RBUTTONUP']\n"
     ]
    }
   ],
   "source": [
    "# to know the events in cv2\n",
    "events = [i for i in dir(cv2) if \"EVENT\" in i]\n",
    "print(events)\n",
    "# we will us ['EVENT_LBUTTONDOWN' ,,, 'EVENT_RBUTTONDOWN']"
   ]
  },
  {
   "cell_type": "code",
   "execution_count": 5,
   "metadata": {},
   "outputs": [
    {
     "name": "stdout",
     "output_type": "stream",
     "text": [
      "162 , 172\n",
      "179 , 216\n",
      "18 , 8\n",
      "3 , 1\n",
      "106 , 240\n",
      "418 , 157\n",
      "435 , 250\n",
      "433 , 308\n",
      "470 , 379\n",
      "456 , 378\n",
      "434 , 368\n",
      "409 , 368\n",
      "378 , 376\n"
     ]
    }
   ],
   "source": [
    "import cv2\n",
    "\n",
    "def click_event(event, x, y, flags, param):\n",
    "    if event == cv2.EVENT_LBUTTONDOWN:\n",
    "        print(x, \",\", y)\n",
    "        font = cv2.FONT_HERSHEY_SIMPLEX\n",
    "        strXY = str(x) + \" , \" + str(y)\n",
    "        cv2.putText(img, strXY, (x, y), font, 0.5, (255, 255, 0), 2)\n",
    "        cv2.imshow(\"image\", img)\n",
    "    elif event == cv2.EVENT_RBUTTONDOWN:\n",
    "        blue = img[y, x, 0]   # 0 >> for blue\n",
    "        green = img[y, x, 1]  # 1 >> for green\n",
    "        red = img[y, x, 2]    # 2 >> for red\n",
    "        font = cv2.FONT_HERSHEY_SIMPLEX\n",
    "        strBGR = str(blue) + \" , \" + str(green) + \" , \" + str(red)\n",
    "        cv2.putText(img, strBGR, (x, y), font, 0.5, (0, 255, 255), 2)\n",
    "        cv2.imshow(\"image\", img)\n",
    "\n",
    "img = cv2.imread(r'C:\\Users\\aliay\\OneDrive\\Desktop\\py_test\\computer vision\\dataset\\apple.jpg')\n",
    "cv2.imshow(\"image\", img)\n",
    "cv2.setMouseCallback(\"image\", click_event)\n",
    "cv2.waitKey(0)\n",
    "cv2.destroyAllWindows()\n"
   ]
  },
  {
   "cell_type": "code",
   "execution_count": null,
   "metadata": {},
   "outputs": [],
   "source": []
  }
 ],
 "metadata": {
  "kernelspec": {
   "display_name": "py_test",
   "language": "python",
   "name": "python3"
  },
  "language_info": {
   "codemirror_mode": {
    "name": "ipython",
    "version": 3
   },
   "file_extension": ".py",
   "mimetype": "text/x-python",
   "name": "python",
   "nbconvert_exporter": "python",
   "pygments_lexer": "ipython3",
   "version": "3.9.13"
  }
 },
 "nbformat": 4,
 "nbformat_minor": 2
}
