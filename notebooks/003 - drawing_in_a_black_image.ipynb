{
 "cells": [
  {
   "cell_type": "code",
   "execution_count": 3,
   "metadata": {},
   "outputs": [],
   "source": [
    "import cv2\n",
    "import numpy as np "
   ]
  },
  {
   "cell_type": "code",
   "execution_count": 32,
   "metadata": {},
   "outputs": [],
   "source": [
    "img = np.zeros([512,512,3],np.uint8)\n",
    "# start - end - color - thikness\n",
    "img = cv2.line(img,(0,0),(256,256),(0,255,0),5)  \n",
    "img = cv2.arrowedLine(img,(0,255),(256,256),(255,0,0),5)\n",
    "img = cv2.rectangle(img,(384,0),(510,128),(0,0,255),4)\n",
    "# the third pram for (r) --- (-1) >> to fill the circle \n",
    "img = cv2.circle(img,(447,63),63,(50,40,128),-1)\n",
    "\n",
    "\n",
    "cv2.imshow(\"image\",img)\n",
    "cv2.waitKey(0)\n",
    "cv2.destroyAllWindows()"
   ]
  },
  {
   "cell_type": "code",
   "execution_count": 31,
   "metadata": {},
   "outputs": [],
   "source": [
    "img = np.zeros([512,512,3],np.uint8)\n",
    "\n",
    "font = cv2.FONT_HERSHEY_SIMPLEX\n",
    "img = cv2.putText(img,\"Ali Ayman\",(20,250),font,3,(0,255,255),10)\n",
    "# img = cv2.ellipse(img, center, axes, angle, startAngle, endAngle, color, thickness)\n",
    "img = cv2.ellipse(img,(256,256),(240,50),0,0,180,255,-1)\n",
    "pts = np.array([[10,5],[20,30],[70,20],[50,10]],np.int32)\n",
    "#  True - responsible for concatnate the last point with the start point \n",
    "img = cv2.polylines(img,[pts],True,(0,255,255))\n",
    "\n",
    "cv2.imshow(\"image\",img)\n",
    "cv2.waitKey(0)\n",
    "cv2.destroyAllWindows()"
   ]
  },
  {
   "cell_type": "markdown",
   "metadata": {},
   "source": [
    "<B>Creating Graphics</B>"
   ]
  },
  {
   "cell_type": "code",
   "execution_count": 51,
   "metadata": {},
   "outputs": [],
   "source": [
    "# hight - width - dtypes read a doc to know the sautable dtype\n",
    "img = np.zeros((600,900,3),dtype=np.uint8)\n",
    "\n",
    "# background \n",
    "cv2.rectangle(img,(0,0),(900,500),(255,255,85),-1)\n",
    "cv2.rectangle(img,(0,500),(900,600),(75,180,70),-1)\n",
    "# sun \n",
    "cv2.circle(img,(200,150),60,(0,255,255),-1)\n",
    "cv2.circle(img,(200,150),69,(220,255,255),5)\n",
    "# tree1\n",
    "cv2.line(img,(710,500),(710,420),(30,65,155),15)\n",
    "triangle1 = np.array([[640,460],[780,460],[710,200]],dtype=np.int32)\n",
    "cv2.fillPoly(img,[triangle1],(75,180,70))\n",
    "# tree2\n",
    "cv2.line(img,(600,500),(600,420),(30,65,155),25)\n",
    "triangle2 = np.array([[500,440],[700,440],[600,75]],dtype=np.int32)\n",
    "cv2.fillPoly(img,[triangle2],(75,200,70))\n",
    "# text\n",
    "font = cv2.FONT_ITALIC\n",
    "cv2.putText(img,\"Ali Ayman\",(120,490),font,2,(0,0,0),3)\n",
    "\n",
    "# cv2.imwrite('tree.png',img)\n",
    "cv2.imshow(\"image\",img)\n",
    "cv2.waitKey(0)\n",
    "cv2.destroyAllWindows()"
   ]
  },
  {
   "cell_type": "code",
   "execution_count": null,
   "metadata": {},
   "outputs": [],
   "source": []
  }
 ],
 "metadata": {
  "kernelspec": {
   "display_name": "py_test",
   "language": "python",
   "name": "python3"
  },
  "language_info": {
   "codemirror_mode": {
    "name": "ipython",
    "version": 3
   },
   "file_extension": ".py",
   "mimetype": "text/x-python",
   "name": "python",
   "nbconvert_exporter": "python",
   "pygments_lexer": "ipython3",
   "version": "3.9.13"
  }
 },
 "nbformat": 4,
 "nbformat_minor": 2
}
