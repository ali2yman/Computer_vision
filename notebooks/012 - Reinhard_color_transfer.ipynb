{
 "cells": [
  {
   "cell_type": "code",
   "execution_count": 11,
   "metadata": {},
   "outputs": [],
   "source": [
    "import numpy as np \n",
    "import cv2\n",
    "import os "
   ]
  },
  {
   "cell_type": "code",
   "execution_count": 12,
   "metadata": {},
   "outputs": [],
   "source": [
    "os.chdir(r\"C:\\Users\\aliay\\OneDrive\\Desktop\\py_test\\computer vision\\dataset\\reinhard_color_transfer\")\n",
    "\n",
    "input_dir = \"input_images/\"\n",
    "input_image_list = os.listdir(input_dir)\n",
    "\n",
    "output_dir = \"output_images/\""
   ]
  },
  {
   "cell_type": "code",
   "execution_count": 13,
   "metadata": {},
   "outputs": [],
   "source": [
    "def get_mean_and_std(x):\n",
    "    x_mean,x_std = cv2.meanStdDev(x)\n",
    "    # if x more than one pic so we need to use (hstack >> which enabels us put all mean and std values on horizontall vector cotains the value of each pic)\n",
    "    # around >> 3shan t3ml t2reeb llrakm then bya5od rakmeen b3d el3lama ,, ama round bta5od elrakmeen 3latool mn 8yr t2ryb \n",
    "    x_mean = np.hstack(np.around(x_mean,2))\n",
    "    x_std = np.hstack(np.around(x_std,2))\n",
    "    return x_mean,x_std"
   ]
  },
  {
   "cell_type": "code",
   "execution_count": 14,
   "metadata": {},
   "outputs": [],
   "source": [
    "template_image = cv2.imread(\"template_images/messi3.jpeg\")\n",
    "template_image = cv2.cvtColor(template_image,cv2.COLOR_BGR2LAB)\n",
    "template_mean , template_std  = get_mean_and_std(template_image)"
   ]
  },
  {
   "cell_type": "code",
   "execution_count": 15,
   "metadata": {},
   "outputs": [
    {
     "name": "stdout",
     "output_type": "stream",
     "text": [
      "apple.jpg\n",
      "bitwiseOprations.png\n",
      "messi.jpg\n"
     ]
    }
   ],
   "source": [
    "for img in (input_image_list):\n",
    "    print(img)\n",
    "    input_img = cv2.imread(input_dir+img)\n",
    "    input_img = cv2.cvtColor(input_img,cv2.COLOR_BGR2LAB)\n",
    "    img_mean , img_std  = get_mean_and_std(input_img)\n",
    "\n",
    "    height , width , channel = input_img.shape\n",
    "    for i in range(0,height):\n",
    "        for j in range(0,width):\n",
    "            for k in range(0,channel):\n",
    "                x = input_img[i,j,k]\n",
    "\n",
    "                x = ((x-img_mean[k])*(template_std[k]/img_std[k]))+template_mean[k]\n",
    "                x = round(x)\n",
    "                x = 0 if x<0 else x\n",
    "                x = 255 if x>255 else x\n",
    "                input_img[i,j,k]  = x\n",
    "\n",
    "    input_img = cv2.cvtColor(input_img,cv2.COLOR_LAB2BGR)\n",
    "    cv2.imwrite(output_dir+\"modified_\"+img,input_img)\n",
    "\n"
   ]
  },
  {
   "cell_type": "markdown",
   "metadata": {},
   "source": []
  }
 ],
 "metadata": {
  "kernelspec": {
   "display_name": "py_test",
   "language": "python",
   "name": "python3"
  },
  "language_info": {
   "codemirror_mode": {
    "name": "ipython",
    "version": 3
   },
   "file_extension": ".py",
   "mimetype": "text/x-python",
   "name": "python",
   "nbconvert_exporter": "python",
   "pygments_lexer": "ipython3",
   "version": "3.9.13"
  }
 },
 "nbformat": 4,
 "nbformat_minor": 2
}
