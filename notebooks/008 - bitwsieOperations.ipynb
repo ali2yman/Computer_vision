{
 "cells": [
  {
   "cell_type": "code",
   "execution_count": 1,
   "metadata": {},
   "outputs": [],
   "source": [
    "import cv2\n",
    "import numpy as np "
   ]
  },
  {
   "cell_type": "code",
   "execution_count": 2,
   "metadata": {},
   "outputs": [],
   "source": [
    "img1 = np.zeros((250,500,3),np.uint8)\n",
    "# hn3ml 3la el image dy rectangle abyd\n",
    "img1 = cv2.rectangle(img1,(200,0),(300,100),(255,255,255),-1)\n",
    "\n",
    "img2 = np.full((250,500,3),255,dtype=np.uint8)\n",
    "img2 = cv2.rectangle(img2,(0,0),(250,250),(0,0,0),-1)"
   ]
  },
  {
   "cell_type": "code",
   "execution_count": 3,
   "metadata": {},
   "outputs": [],
   "source": [
    "bitAnd = cv2.bitwise_and(img1,img2)\n",
    "bitOr = cv2.bitwise_or(img1,img2)\n",
    "bitXor = cv2.bitwise_xor(img1,img2)\n",
    "bitNot1 = cv2.bitwise_not(img1)\n",
    "bitNot2 = cv2.bitwise_not(img2)"
   ]
  },
  {
   "cell_type": "code",
   "execution_count": 6,
   "metadata": {},
   "outputs": [],
   "source": [
    "cv2.imshow('img1',img1)\n",
    "cv2.imshow('img2',img2)\n",
    "cv2.imshow('bitAnd',bitAnd)\n",
    "cv2.imshow('bitOr',bitOr)\n",
    "cv2.imshow('bitXor',bitXor)\n",
    "cv2.imshow('bitNot1',bitNot1)\n",
    "cv2.imshow('bitNot2',bitNot2)\n",
    "\n",
    "\n",
    "cv2.waitKey(0)\n",
    "cv2.destroyAllWindows()"
   ]
  },
  {
   "cell_type": "code",
   "execution_count": null,
   "metadata": {},
   "outputs": [],
   "source": []
  }
 ],
 "metadata": {
  "kernelspec": {
   "display_name": "py_test",
   "language": "python",
   "name": "python3"
  },
  "language_info": {
   "codemirror_mode": {
    "name": "ipython",
    "version": 3
   },
   "file_extension": ".py",
   "mimetype": "text/x-python",
   "name": "python",
   "nbconvert_exporter": "python",
   "pygments_lexer": "ipython3",
   "version": "3.9.13"
  }
 },
 "nbformat": 4,
 "nbformat_minor": 2
}
