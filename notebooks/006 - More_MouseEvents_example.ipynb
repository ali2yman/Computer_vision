{
 "cells": [
  {
   "cell_type": "code",
   "execution_count": 2,
   "metadata": {},
   "outputs": [],
   "source": [
    "import numpy as np \n",
    "import cv2"
   ]
  },
  {
   "cell_type": "code",
   "execution_count": 3,
   "metadata": {},
   "outputs": [],
   "source": [
    "def click_event(event,x,y,flags,param):\n",
    "    if event == cv2.EVENT_LBUTTONDOWN:\n",
    "        cv2.circle(img,(x,y),15,(255,0,0),-1)\n",
    "        points.append((x,y))\n",
    "        if len(points) >= 2:\n",
    "            cv2.line(img,points[-1],points[-2],(0,255,255))\n",
    "        cv2.imshow(\"image\",img)    \n",
    "\n",
    "img = np.zeros((512,512,3),np.uint8)\n",
    "cv2.imshow('image',img)\n",
    "points = []\n",
    "\n",
    "cv2.setMouseCallback(\"image\",click_event)\n",
    "cv2.waitKey(0)\n",
    "cv2.destroyAllWindows()\n",
    "\n",
    "        "
   ]
  },
  {
   "cell_type": "markdown",
   "metadata": {},
   "source": [
    "<b> The Second Example </b>"
   ]
  },
  {
   "cell_type": "code",
   "execution_count": 6,
   "metadata": {},
   "outputs": [],
   "source": [
    "def click_event(event,x,y,flags,param):\n",
    "    if event == cv2.EVENT_LBUTTONDOWN:\n",
    "        blue = img[y,x,0]\n",
    "        green = img[y,x,1]\n",
    "        red = img[y,x,2]\n",
    "        mycolorimg = np.zeros((512,512,3),dtype=np.uint8)\n",
    "        mycolorimg[:] = [blue,green,red]\n",
    "        cv2.imshow(\"color\",mycolorimg)    \n",
    "\n",
    "img = cv2.imread(r\"C:\\Users\\aliay\\OneDrive\\Desktop\\py_test\\computer vision\\dataset\\apple.jpg\")\n",
    "cv2.imshow('image',img)\n",
    "\n",
    "cv2.setMouseCallback(\"image\",click_event)\n",
    "cv2.waitKey(0)\n",
    "cv2.destroyAllWindows()\n",
    "\n",
    "        "
   ]
  },
  {
   "cell_type": "code",
   "execution_count": null,
   "metadata": {},
   "outputs": [],
   "source": []
  }
 ],
 "metadata": {
  "kernelspec": {
   "display_name": "py_test",
   "language": "python",
   "name": "python3"
  },
  "language_info": {
   "codemirror_mode": {
    "name": "ipython",
    "version": 3
   },
   "file_extension": ".py",
   "mimetype": "text/x-python",
   "name": "python",
   "nbconvert_exporter": "python",
   "pygments_lexer": "ipython3",
   "version": "3.9.13"
  }
 },
 "nbformat": 4,
 "nbformat_minor": 2
}
