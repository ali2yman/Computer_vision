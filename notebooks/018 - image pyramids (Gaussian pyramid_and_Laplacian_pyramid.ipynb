{
 "cells": [
  {
   "cell_type": "code",
   "execution_count": 2,
   "metadata": {},
   "outputs": [],
   "source": [
    "import cv2\n",
    "import matplotlib.pyplot as plt \n",
    "import numpy as np \n",
    "import os "
   ]
  },
  {
   "cell_type": "code",
   "execution_count": 3,
   "metadata": {},
   "outputs": [],
   "source": [
    "img = cv2.imread(r\"C:\\Users\\aliay\\OneDrive\\Desktop\\py_test\\computer vision\\dataset\\lena.png\")\n",
    "\n",
    "# lr >> low resolution \n",
    "lr1 = cv2.pyrDown(img)    #By defult bt2l ll rob3 \n",
    "lr2 = cv2.pyrDown(lr1)\n",
    "# lw 3awzeen nrg3 lr2 l aslha(lr1) >>> note en lma terg3 el resolution hat2l \n",
    "hr2 = cv2.pyrUp(lr2)\n",
    "\n",
    "\n",
    "cv2.imshow(\"original\",img)\n",
    "cv2.imshow(\"lr1\",lr1)\n",
    "cv2.imshow(\"lr2\",lr2)\n",
    "cv2.imshow(\"hr2\",hr2)\n",
    "\n",
    "cv2.waitKey(0)\n",
    "cv2.destroyAllWindows()"
   ]
  },
  {
   "cell_type": "markdown",
   "metadata": {},
   "source": [
    "Doing the same thing by using for loop "
   ]
  },
  {
   "cell_type": "code",
   "execution_count": 4,
   "metadata": {},
   "outputs": [],
   "source": [
    "layer = img.copy()\n",
    "# gaussian pyramid\n",
    "gp = []\n",
    "\n",
    "for i in range(5):\n",
    "    layer = cv2.pyrDown(layer)\n",
    "    gp.append(layer)\n",
    "    cv2.imshow(str(i),layer)\n",
    "\n",
    "cv2.imshow(\"original\",img)\n",
    "cv2.waitKey(0)\n",
    "cv2.destroyAllWindows()\n"
   ]
  },
  {
   "cell_type": "markdown",
   "metadata": {},
   "source": [
    "Laplacian"
   ]
  },
  {
   "cell_type": "code",
   "execution_count": 5,
   "metadata": {},
   "outputs": [],
   "source": [
    "layer = img.copy()\n",
    "# gaussian pyramid\n",
    "gp = []\n",
    "\n",
    "for i in range(5):\n",
    "    layer = cv2.pyrDown(layer)\n",
    "    gp.append(layer)\n",
    "    # cv2.imshow(str(i),layer)\n",
    "\n",
    "layer = gp[4]   #the last one\n",
    "# cv2.imshow(\"Upper level Gaussian Pyramid\",layer)\n",
    "\n",
    "laplacian_pyramid_list = []\n",
    "\n",
    "# In the Laplacian pyramid, each level (except the top-most) is obtained by taking the difference between the current level of the Gaussian pyramid \n",
    "# and the image obtained by upsampling the next (higher resolution) level in the Gaussian pyramid.\n",
    "for i in range(4,0,-1):\n",
    "    guassian_extendend = cv2.pyrUp(gp[i])\n",
    "    laplacian = cv2.subtract(gp[i-1],guassian_extendend)\n",
    "    laplacian_pyramid_list.append(laplacian)\n",
    "    cv2.imshow(str(i),laplacian)\n",
    "\n",
    "cv2.imshow(\"original image\",img)    \n",
    "cv2.waitKey(0)\n",
    "cv2.destroyAllWindows()\n"
   ]
  },
  {
   "cell_type": "code",
   "execution_count": null,
   "metadata": {},
   "outputs": [],
   "source": []
  }
 ],
 "metadata": {
  "kernelspec": {
   "display_name": "py_test",
   "language": "python",
   "name": "python3"
  },
  "language_info": {
   "codemirror_mode": {
    "name": "ipython",
    "version": 3
   },
   "file_extension": ".py",
   "mimetype": "text/x-python",
   "name": "python",
   "nbconvert_exporter": "python",
   "pygments_lexer": "ipython3",
   "version": "3.9.13"
  }
 },
 "nbformat": 4,
 "nbformat_minor": 2
}
