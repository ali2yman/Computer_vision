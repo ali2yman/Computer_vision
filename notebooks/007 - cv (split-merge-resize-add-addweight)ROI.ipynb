{
 "cells": [
  {
   "cell_type": "code",
   "execution_count": 32,
   "metadata": {},
   "outputs": [],
   "source": [
    "import cv2\n",
    "import os\n",
    "os.chdir(r'C:\\Users\\aliay\\OneDrive\\Desktop\\py_test\\computer vision\\dataset')"
   ]
  },
  {
   "cell_type": "code",
   "execution_count": 40,
   "metadata": {},
   "outputs": [
    {
     "name": "stdout",
     "output_type": "stream",
     "text": [
      "(2322, 3747, 3)\n",
      "(404, 474, 3)\n",
      "26101602\n",
      "574488\n",
      "uint8\n",
      "uint8\n"
     ]
    }
   ],
   "source": [
    "img = cv2.imread(\"messi.jpg\")\n",
    "img2 = cv2.imread(\"apple.jpg\")\n",
    "\n",
    "print(img.shape)\n",
    "print(img2.shape)\n",
    "\n",
    "print(img.size)\n",
    "print(img2.size)\n",
    "\n",
    "print(img.dtype)\n",
    "print(img2.dtype)"
   ]
  },
  {
   "cell_type": "markdown",
   "metadata": {},
   "source": [
    "if we need to store each color of my img in var then merge them again to make the image "
   ]
  },
  {
   "cell_type": "code",
   "execution_count": 34,
   "metadata": {},
   "outputs": [],
   "source": [
    "b , g , r = cv2.split(img) \n",
    "img = cv2.merge((b , g , r))\n",
    "\n",
    "\n",
    "\n",
    "\n",
    "# Here's a step-by-step explanation:\n",
    "\n",
    "# img.shape[0] / img.shape[1]: This calculates the aspect ratio of the original image by dividing its height by its width.\n",
    "\n",
    "# window_width * img.shape[0] / img.shape[1]: This calculates the desired height of the window based on the desired width (window_width) and the aspect ratio of the original image.\n",
    "\n",
    "# int(window_width * img.shape[0] / img.shape[1]): The result is converted to an integer to ensure that the height is a whole number, as the cv2.resizeWindow() function expects integer values for width and height.\n",
    "\n",
    "# In summary, this line of code ensures that when you resize the OpenCV window, it maintains the same aspect ratio as the original image, preventing any distortion in the displayed image. Adjust the window_width variable to control the width of the window, and the height will be adjusted proportionally.\n",
    "\n",
    "cv2.namedWindow('Image', cv2.WINDOW_NORMAL)  # Use WINDOW_NORMAL flag for resizable window\n",
    "# Set the desired width for the window\n",
    "window_width = 800\n",
    "cv2.resizeWindow('Image', window_width, int(window_width * img.shape[0] / img.shape[1]))\n",
    "cv2.imshow('Image', img)\n",
    "cv2.waitKey(0)\n",
    "cv2.destroyAllWindows()"
   ]
  },
  {
   "cell_type": "code",
   "execution_count": 35,
   "metadata": {},
   "outputs": [
    {
     "data": {
      "text/plain": [
       "True"
      ]
     },
     "execution_count": 35,
     "metadata": {},
     "output_type": "execute_result"
    }
   ],
   "source": [
    "desired_width = 800\n",
    "desired_height = 600\n",
    "\n",
    "# Resize the image\n",
    "img = cv2.resize(img, (desired_width, desired_height))\n",
    "\n",
    "# Save the resized image\n",
    "cv2.imwrite('messi_final.jpg', img)"
   ]
  },
  {
   "cell_type": "code",
   "execution_count": 47,
   "metadata": {},
   "outputs": [],
   "source": [
    "img = cv2.imread(\"messi_final.jpg\")\n",
    "# Copy a region from one part of the image\n",
    "# rows , columns\n",
    "source_region = img[100:300, 300:500]\n",
    "\n",
    "# Specify the destination coordinates for pasting\n",
    "destination_y1, destination_y2, destination_x1, destination_x2 = 400, 600, 500, 700\n",
    "\n",
    "# Ensure that the destination coordinates are within the valid range\n",
    "destination_y2 = min(destination_y2, img.shape[0])  # Ensure it doesn't exceed the height of the image\n",
    "destination_x2 = min(destination_x2, img.shape[1])  # Ensure it doesn't exceed the width of the image\n",
    "\n",
    "# Paste the copied region into another part of the image\n",
    "img[destination_y1:destination_y2, destination_x1:destination_x2] = source_region\n",
    "\n",
    "# Display the modified image\n",
    "cv2.imshow('Modified Image', img)\n",
    "cv2.waitKey(0)\n",
    "cv2.destroyAllWindows()"
   ]
  },
  {
   "cell_type": "markdown",
   "metadata": {},
   "source": [
    "if we want to marge 2 images >>>>> we should resize the two image becouse the 2 images should be the same sizes"
   ]
  },
  {
   "cell_type": "code",
   "execution_count": 49,
   "metadata": {},
   "outputs": [],
   "source": [
    "img = cv2.resize(img,(512,512))\n",
    "img2 = cv2.resize(img2,(512,512))\n",
    "\n",
    "# dst = cv2.add(img,img2)\n",
    "# the last pram responsible for brightness \n",
    "# the number after each image responsible for the weight of each image \n",
    "dst = cv2.addWeighted(img,.7,img2,.3,0)\n",
    "\n",
    "cv2.imshow('frame', dst)\n",
    "cv2.waitKey(0)\n",
    "cv2.destroyAllWindows()"
   ]
  },
  {
   "cell_type": "code",
   "execution_count": null,
   "metadata": {},
   "outputs": [],
   "source": []
  }
 ],
 "metadata": {
  "kernelspec": {
   "display_name": "py_test",
   "language": "python",
   "name": "python3"
  },
  "language_info": {
   "codemirror_mode": {
    "name": "ipython",
    "version": 3
   },
   "file_extension": ".py",
   "mimetype": "text/x-python",
   "name": "python",
   "nbconvert_exporter": "python",
   "pygments_lexer": "ipython3",
   "version": "3.9.13"
  }
 },
 "nbformat": 4,
 "nbformat_minor": 2
}
