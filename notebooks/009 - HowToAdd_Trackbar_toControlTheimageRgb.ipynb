{
 "cells": [
  {
   "cell_type": "code",
   "execution_count": 1,
   "metadata": {},
   "outputs": [],
   "source": [
    "import cv2\n",
    "import numpy as np "
   ]
  },
  {
   "cell_type": "code",
   "execution_count": 2,
   "metadata": {},
   "outputs": [],
   "source": [
    "# just a function to print the value \n",
    "def nothing(x):\n",
    "    print(x)"
   ]
  },
  {
   "cell_type": "code",
   "execution_count": 4,
   "metadata": {},
   "outputs": [
    {
     "name": "stdout",
     "output_type": "stream",
     "text": [
      "1\n",
      "51\n",
      "51\n",
      "51\n",
      "102\n",
      "153\n",
      "56\n",
      "66\n",
      "76\n",
      "87\n",
      "98\n",
      "106\n",
      "120\n",
      "142\n",
      "152\n",
      "165\n",
      "175\n",
      "195\n",
      "202\n",
      "208\n",
      "213\n",
      "221\n",
      "228\n",
      "230\n",
      "233\n",
      "236\n",
      "237\n",
      "238\n",
      "239\n",
      "241\n",
      "243\n",
      "244\n",
      "245\n",
      "246\n",
      "247\n",
      "248\n",
      "249\n",
      "250\n",
      "251\n",
      "102\n",
      "153\n"
     ]
    }
   ],
   "source": [
    "# creating a black image - window\n",
    "img = np.zeros((300,512,3),np.uint8)\n",
    "cv2.namedWindow(\"image\")\n",
    "# values from 0 to 255 \n",
    "cv2.createTrackbar(\"B\" , 'image' , 0 , 255 , nothing)\n",
    "cv2.createTrackbar(\"G\" , 'image' , 0 , 255 , nothing)\n",
    "cv2.createTrackbar(\"R\" , 'image' , 0 , 255 , nothing)\n",
    "\n",
    "switch = '0 : off \\\\n 1 : On'\n",
    "# values from 0 to 1\n",
    "cv2.createTrackbar(switch , 'image' , 0 , 1 , nothing)\n",
    "\n",
    "\n",
    "while(True):\n",
    "    cv2.imshow('image',img)\n",
    "    # this means that the program wait for one key(escape) to close the program\n",
    "    k = cv2.waitKey(1)\n",
    "    if k == 27 :\n",
    "        break\n",
    "\n",
    "    b = cv2.getTrackbarPos('B','image')\n",
    "    g = cv2.getTrackbarPos('G','image')\n",
    "    r = cv2.getTrackbarPos('R','image')\n",
    "    s = cv2.getTrackbarPos(switch,'image')\n",
    "\n",
    "    if s == 0:\n",
    "        img[:] = 0\n",
    "    else:\n",
    "        img[:] = [b,g,r]  \n",
    "\n",
    "cv2.destroyAllWindows()\n"
   ]
  },
  {
   "cell_type": "code",
   "execution_count": null,
   "metadata": {},
   "outputs": [],
   "source": []
  }
 ],
 "metadata": {
  "kernelspec": {
   "display_name": "py_test",
   "language": "python",
   "name": "python3"
  },
  "language_info": {
   "codemirror_mode": {
    "name": "ipython",
    "version": 3
   },
   "file_extension": ".py",
   "mimetype": "text/x-python",
   "name": "python",
   "nbconvert_exporter": "python",
   "pygments_lexer": "ipython3",
   "version": "3.9.13"
  }
 },
 "nbformat": 4,
 "nbformat_minor": 2
}
